{
 "cells": [
  {
   "cell_type": "code",
   "execution_count": 6,
   "metadata": {},
   "outputs": [],
   "source": [
    "using Plots, SpecialFunctions, Symbolics"
   ]
  },
  {
   "cell_type": "code",
   "execution_count": 7,
   "metadata": {},
   "outputs": [],
   "source": [
    "βr     = 1.0e-10\n",
    "ρr     = 3000\n",
    "Pini   = 4e9\n",
    "Pr     = Pini\n",
    "dPr    = 5e7\n",
    "Pt     = 3.5e9\n",
    "dρinc  = 300.0\n",
    "Ptens  = -2e7\n",
    "Pmin   = 2e9\n",
    "Pmax   = Pini \n",
    "P_1d   = LinRange( Pmin, Pmax, 200 )\n",
    "ρr_1d  = ρr .- dρinc*1//2 .* erfc.( (P_1d.-Pt)./dPr ) \n",
    "ρ_1d   = ρr_1d .*exp.(βr.*(P_1d.-Pr))\n",
    "ϕ      = 20.0\n",
    "C      = 1e7\n",
    "τy_1d  = C.*cosd(ϕ) .+ P_1d.*sind(ϕ);"
   ]
  },
  {
   "cell_type": "code",
   "execution_count": 8,
   "metadata": {},
   "outputs": [
    {
     "data": {
      "text/latex": [
       "\\begin{equation}\n",
       "\\frac{0.5641895835477563 d{\\rho}inc e^{ - \\left( \\frac{P - Pt}{dPr} \\right)^{2}}}{dPr}\n",
       "\\end{equation}\n"
      ],
      "text/plain": [
       "(0.5641895835477563dρinc*exp(-(((P - Pt) / dPr)^2))) / dPr"
      ]
     },
     "metadata": {},
     "output_type": "display_data"
    }
   ],
   "source": [
    "# Make dt dependent on P to better resolve the transition\n",
    "# @variables P, ρr, dρinc, Pt, dPr\n",
    "@variables P#, ρr, dρinc, Pt, dPr\n",
    "D = Differential(P)\n",
    "ρ = ρr - dρinc*1//2 * erfc( (P-Pt)/dPr ) \n",
    "_Δt = expand_derivatives(D(ρ))\n",
    "display(_Δt)\n",
    "Δt  = eval( build_function(_Δt,[P]) )\n",
    "Δt_1d = Δt.( P_1d );"
   ]
  },
  {
   "cell_type": "code",
   "execution_count": 9,
   "metadata": {},
   "outputs": [
    {
     "ename": "MethodError",
     "evalue": "MethodError: no method matching decompose(::Num)\nClosest candidates are:\n  decompose(!Matched::Integer) at /Applications/Julia-1.7.app/Contents/Resources/julia/share/julia/base/float.jl:642\n  decompose(!Matched::Rational) at /Applications/Julia-1.7.app/Contents/Resources/julia/share/julia/base/rational.jl:515\n  decompose(!Matched::FixedPointNumbers.Normed) at ~/.julia/packages/FixedPointNumbers/HAGk2/src/normed.jl:296\n  ...",
     "output_type": "error",
     "traceback": [
      "MethodError: no method matching decompose(::Num)\n",
      "Closest candidates are:\n",
      "  decompose(!Matched::Integer) at /Applications/Julia-1.7.app/Contents/Resources/julia/share/julia/base/float.jl:642\n",
      "  decompose(!Matched::Rational) at /Applications/Julia-1.7.app/Contents/Resources/julia/share/julia/base/rational.jl:515\n",
      "  decompose(!Matched::FixedPointNumbers.Normed) at ~/.julia/packages/FixedPointNumbers/HAGk2/src/normed.jl:296\n",
      "  ...\n",
      "\n",
      "Stacktrace:\n",
      "  [1] isfinite(x::Num)\n",
      "    @ Base ./float.jl:538\n",
      "  [2] isinf(x::Num)\n",
      "    @ Base ./float.jl:548\n",
      "  [3] (::RecipesPipeline.var\"#19#20\")(x::Num)\n",
      "    @ RecipesPipeline ~/.julia/packages/RecipesPipeline/F2mWY/src/series.jl:15\n",
      "  [4] _replace!(new::RecipesPipeline.var\"#19#20\", res::Vector{Num}, A::Vector{Num}, count::Int64)\n",
      "    @ Base ./set.jl:680\n",
      "  [5] replace!(new::Function, A::Vector{Num}; count::Int64)\n",
      "    @ Base ./set.jl:531\n",
      "  [6] replace!\n",
      "    @ ./set.jl:531 [inlined]\n",
      "  [7] _prepare_series_data\n",
      "    @ ~/.julia/packages/RecipesPipeline/F2mWY/src/series.jl:15 [inlined]\n",
      "  [8] _series_data_vector(v::Vector{Num}, plotattributes::Dict{Symbol, Any})\n",
      "    @ RecipesPipeline ~/.julia/packages/RecipesPipeline/F2mWY/src/series.jl:33\n",
      "  [9] macro expansion\n",
      "    @ ~/.julia/packages/RecipesPipeline/F2mWY/src/series.jl:127 [inlined]\n",
      " [10] apply_recipe(plotattributes::AbstractDict{Symbol, Any}, #unused#::Type{RecipesPipeline.SliceIt}, x::Any, y::Any, z::Any)\n",
      "    @ RecipesPipeline ~/.julia/packages/RecipesBase/qpxEX/src/RecipesBase.jl:289\n",
      " [11] _process_userrecipes!(plt::Any, plotattributes::Any, args::Any)\n",
      "    @ RecipesPipeline ~/.julia/packages/RecipesPipeline/F2mWY/src/user_recipe.jl:36\n",
      " [12] recipe_pipeline!(plt::Any, plotattributes::Any, args::Any)\n",
      "    @ RecipesPipeline ~/.julia/packages/RecipesPipeline/F2mWY/src/RecipesPipeline.jl:70\n",
      " [13] _plot!(plt::Plots.Plot, plotattributes::Any, args::Any)\n",
      "    @ Plots ~/.julia/packages/Plots/dNEbX/src/plot.jl:208\n",
      " [14] plot(::Any, ::Vararg{Any}; kw::Base.Pairs{Symbol, V, Tuple{Vararg{Symbol, N}}, NamedTuple{names, T}} where {V, N, names, T<:Tuple{Vararg{Any, N}}})\n",
      "    @ Plots ~/.julia/packages/Plots/dNEbX/src/plot.jl:91\n",
      " [15] plot(::Any, ::Any)\n",
      "    @ Plots ~/.julia/packages/Plots/dNEbX/src/plot.jl:85\n",
      " [16] top-level scope\n",
      "    @ ~/REPO_GIT/PT3D/ModelParameters.ipynb:3\n",
      " [17] eval\n",
      "    @ ./boot.jl:373 [inlined]\n",
      " [18] include_string(mapexpr::typeof(REPL.softscope), mod::Module, code::String, filename::String)\n",
      "    @ Base ./loading.jl:1196\n",
      " [19] #invokelatest#2\n",
      "    @ ./essentials.jl:716 [inlined]\n",
      " [20] invokelatest\n",
      "    @ ./essentials.jl:714 [inlined]\n",
      " [21] (::VSCodeServer.var\"#164#165\"{VSCodeServer.NotebookRunCellArguments, String})()\n",
      "    @ VSCodeServer ~/.vscode/extensions/julialang.language-julia-1.6.17/scripts/packages/VSCodeServer/src/serve_notebook.jl:19\n",
      " [22] withpath(f::VSCodeServer.var\"#164#165\"{VSCodeServer.NotebookRunCellArguments, String}, path::String)\n",
      "    @ VSCodeServer ~/.vscode/extensions/julialang.language-julia-1.6.17/scripts/packages/VSCodeServer/src/repl.jl:184\n",
      " [23] notebook_runcell_request(conn::VSCodeServer.JSONRPC.JSONRPCEndpoint{Base.PipeEndpoint, Base.PipeEndpoint}, params::VSCodeServer.NotebookRunCellArguments)\n",
      "    @ VSCodeServer ~/.vscode/extensions/julialang.language-julia-1.6.17/scripts/packages/VSCodeServer/src/serve_notebook.jl:13\n",
      " [24] dispatch_msg(x::VSCodeServer.JSONRPC.JSONRPCEndpoint{Base.PipeEndpoint, Base.PipeEndpoint}, dispatcher::VSCodeServer.JSONRPC.MsgDispatcher, msg::Dict{String, Any})\n",
      "    @ VSCodeServer.JSONRPC ~/.vscode/extensions/julialang.language-julia-1.6.17/scripts/packages/JSONRPC/src/typed.jl:67\n",
      " [25] serve_notebook(pipename::String, outputchannel_logger::Base.CoreLogging.SimpleLogger; crashreporting_pipename::String)\n",
      "    @ VSCodeServer ~/.vscode/extensions/julialang.language-julia-1.6.17/scripts/packages/VSCodeServer/src/serve_notebook.jl:136\n",
      " [26] top-level scope\n",
      "    @ ~/.vscode/extensions/julialang.language-julia-1.6.17/scripts/notebook/notebook.jl:32\n",
      " [27] include(mod::Module, _path::String)\n",
      "    @ Base ./Base.jl:418\n",
      " [28] exec_options(opts::Base.JLOptions)\n",
      "    @ Base ./client.jl:292\n",
      " [29] _start()\n",
      "    @ Base ./client.jl:495"
     ]
    }
   ],
   "source": [
    "# p1  = plot(P_1d./1e9, ρ_1d, legend=false, title=\"EOS\", ylabel=\"ρ [kg/m³]\", xlabel=\"P [GPa]\")\n",
    "# p2  = plot(P_1d./1e9, τy_1d./1e9, legend=false, title=\"Yield\", ylabel=\"τII [GPa]\", xlabel=\"P [GPa]\")\n",
    "p3  = plot(P_1d./1e9, Δt_1d)\n",
    "display(plot(p3))"
   ]
  },
  {
   "cell_type": "code",
   "execution_count": 10,
   "metadata": {},
   "outputs": [],
   "source": []
  }
 ],
 "metadata": {
  "kernelspec": {
   "display_name": "Julia 1.7.2",
   "language": "julia",
   "name": "julia-1.7"
  },
  "language_info": {
   "file_extension": ".jl",
   "mimetype": "application/julia",
   "name": "julia",
   "version": "1.7.2"
  },
  "orig_nbformat": 4
 },
 "nbformat": 4,
 "nbformat_minor": 2
}
